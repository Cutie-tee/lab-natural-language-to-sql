{
  "cells": [
    {
      "cell_type": "markdown",
      "metadata": {
        "id": "1yFnrczEWDMm"
      },
      "source": [
        "# Natural language to SQL\n",
        "\n",
        "**Run in [Google Colab](https://colab.research.google.com/) For GPU.**\n",
        "\n",
        "This model have  Mistral as a base and it has been fine-tuned to excel in SQL code generation."
      ]
    },
    {
      "cell_type": "code",
      "execution_count": 54,
      "metadata": {
        "id": "DiG1fLalVvh3",
        "outputId": "14950bb3-e96f-44ef-9f43-d2e51bac0635",
        "colab": {
          "base_uri": "https://localhost:8080/"
        }
      },
      "outputs": [
        {
          "output_type": "stream",
          "name": "stdout",
          "text": [
            "Requirement already satisfied: python-dotenv in /usr/local/lib/python3.10/dist-packages (1.0.1)\n"
          ]
        }
      ],
      "source": [
        "pip install python-dotenv"
      ]
    },
    {
      "cell_type": "code",
      "execution_count": 55,
      "metadata": {
        "id": "RuCJhRz5Vvh4"
      },
      "outputs": [],
      "source": [
        "from dotenv import load_dotenv\n",
        "import os\n",
        "\n",
        "# Load environment variables from .env file\n",
        "load_dotenv()\n",
        "\n",
        "# Access the Hugging Face token\n",
        "hf_token = os.getenv(\"HF_TOKEN\")\n"
      ]
    },
    {
      "cell_type": "code",
      "execution_count": 56,
      "metadata": {
        "colab": {
          "base_uri": "https://localhost:8080/"
        },
        "id": "8VNBGXh9V952",
        "outputId": "60276a9d-d346-46ed-c6d2-cadc3a570c49",
        "tags": []
      },
      "outputs": [
        {
          "output_type": "stream",
          "name": "stdout",
          "text": [
            "  Installing build dependencies ... \u001b[?25l\u001b[?25hdone\n",
            "  Getting requirements to build wheel ... \u001b[?25l\u001b[?25hdone\n",
            "  Preparing metadata (pyproject.toml) ... \u001b[?25l\u001b[?25hdone\n",
            "Collecting git+https://github.com/huggingface/accelerate.git\n",
            "  Cloning https://github.com/huggingface/accelerate.git to /tmp/pip-req-build-h8we4_om\n",
            "  Running command git clone --filter=blob:none --quiet https://github.com/huggingface/accelerate.git /tmp/pip-req-build-h8we4_om\n",
            "  Resolved https://github.com/huggingface/accelerate.git to commit 08101b9dde2b1a9658c2e363e3e9f5663ba06073\n",
            "  Installing build dependencies ... \u001b[?25l\u001b[?25hdone\n",
            "  Getting requirements to build wheel ... \u001b[?25l\u001b[?25hdone\n",
            "  Preparing metadata (pyproject.toml) ... \u001b[?25l\u001b[?25hdone\n",
            "Requirement already satisfied: numpy<3.0.0,>=1.17 in /usr/local/lib/python3.10/dist-packages (from accelerate==1.2.0.dev0) (1.26.4)\n",
            "Requirement already satisfied: packaging>=20.0 in /usr/local/lib/python3.10/dist-packages (from accelerate==1.2.0.dev0) (24.2)\n",
            "Requirement already satisfied: psutil in /usr/local/lib/python3.10/dist-packages (from accelerate==1.2.0.dev0) (5.9.5)\n",
            "Requirement already satisfied: pyyaml in /usr/local/lib/python3.10/dist-packages (from accelerate==1.2.0.dev0) (6.0.2)\n",
            "Requirement already satisfied: torch>=1.10.0 in /usr/local/lib/python3.10/dist-packages (from accelerate==1.2.0.dev0) (2.5.1+cu121)\n",
            "Requirement already satisfied: huggingface_hub>=0.21.0 in /usr/local/lib/python3.10/dist-packages (from accelerate==1.2.0.dev0) (0.26.2)\n",
            "Requirement already satisfied: safetensors>=0.4.3 in /usr/local/lib/python3.10/dist-packages (from accelerate==1.2.0.dev0) (0.4.5)\n",
            "Requirement already satisfied: filelock in /usr/local/lib/python3.10/dist-packages (from huggingface_hub>=0.21.0->accelerate==1.2.0.dev0) (3.16.1)\n",
            "Requirement already satisfied: fsspec>=2023.5.0 in /usr/local/lib/python3.10/dist-packages (from huggingface_hub>=0.21.0->accelerate==1.2.0.dev0) (2024.10.0)\n",
            "Requirement already satisfied: requests in /usr/local/lib/python3.10/dist-packages (from huggingface_hub>=0.21.0->accelerate==1.2.0.dev0) (2.32.3)\n",
            "Requirement already satisfied: tqdm>=4.42.1 in /usr/local/lib/python3.10/dist-packages (from huggingface_hub>=0.21.0->accelerate==1.2.0.dev0) (4.66.6)\n",
            "Requirement already satisfied: typing-extensions>=3.7.4.3 in /usr/local/lib/python3.10/dist-packages (from huggingface_hub>=0.21.0->accelerate==1.2.0.dev0) (4.12.2)\n",
            "Requirement already satisfied: networkx in /usr/local/lib/python3.10/dist-packages (from torch>=1.10.0->accelerate==1.2.0.dev0) (3.4.2)\n",
            "Requirement already satisfied: jinja2 in /usr/local/lib/python3.10/dist-packages (from torch>=1.10.0->accelerate==1.2.0.dev0) (3.1.4)\n",
            "Requirement already satisfied: sympy==1.13.1 in /usr/local/lib/python3.10/dist-packages (from torch>=1.10.0->accelerate==1.2.0.dev0) (1.13.1)\n",
            "Requirement already satisfied: mpmath<1.4,>=1.1.0 in /usr/local/lib/python3.10/dist-packages (from sympy==1.13.1->torch>=1.10.0->accelerate==1.2.0.dev0) (1.3.0)\n",
            "Requirement already satisfied: MarkupSafe>=2.0 in /usr/local/lib/python3.10/dist-packages (from jinja2->torch>=1.10.0->accelerate==1.2.0.dev0) (3.0.2)\n",
            "Requirement already satisfied: charset-normalizer<4,>=2 in /usr/local/lib/python3.10/dist-packages (from requests->huggingface_hub>=0.21.0->accelerate==1.2.0.dev0) (3.4.0)\n",
            "Requirement already satisfied: idna<4,>=2.5 in /usr/local/lib/python3.10/dist-packages (from requests->huggingface_hub>=0.21.0->accelerate==1.2.0.dev0) (3.10)\n",
            "Requirement already satisfied: urllib3<3,>=1.21.1 in /usr/local/lib/python3.10/dist-packages (from requests->huggingface_hub>=0.21.0->accelerate==1.2.0.dev0) (2.2.3)\n",
            "Requirement already satisfied: certifi>=2017.4.17 in /usr/local/lib/python3.10/dist-packages (from requests->huggingface_hub>=0.21.0->accelerate==1.2.0.dev0) (2024.8.30)\n",
            "Collecting git+https://github.com/huggingface/transformers.git\n",
            "  Cloning https://github.com/huggingface/transformers.git to /tmp/pip-req-build-0mv_ecoh\n",
            "  Running command git clone --filter=blob:none --quiet https://github.com/huggingface/transformers.git /tmp/pip-req-build-0mv_ecoh\n",
            "  Resolved https://github.com/huggingface/transformers.git to commit 4e90b99ed916300b80bac9db793f2a96b2a87122\n",
            "  Installing build dependencies ... \u001b[?25l\u001b[?25hdone\n",
            "  Getting requirements to build wheel ... \u001b[?25l\u001b[?25hdone\n",
            "  Preparing metadata (pyproject.toml) ... \u001b[?25l\u001b[?25hdone\n",
            "Requirement already satisfied: filelock in /usr/local/lib/python3.10/dist-packages (from transformers==4.47.0.dev0) (3.16.1)\n",
            "Requirement already satisfied: huggingface-hub<1.0,>=0.24.0 in /usr/local/lib/python3.10/dist-packages (from transformers==4.47.0.dev0) (0.26.2)\n",
            "Requirement already satisfied: numpy>=1.17 in /usr/local/lib/python3.10/dist-packages (from transformers==4.47.0.dev0) (1.26.4)\n",
            "Requirement already satisfied: packaging>=20.0 in /usr/local/lib/python3.10/dist-packages (from transformers==4.47.0.dev0) (24.2)\n",
            "Requirement already satisfied: pyyaml>=5.1 in /usr/local/lib/python3.10/dist-packages (from transformers==4.47.0.dev0) (6.0.2)\n",
            "Requirement already satisfied: regex!=2019.12.17 in /usr/local/lib/python3.10/dist-packages (from transformers==4.47.0.dev0) (2024.9.11)\n",
            "Requirement already satisfied: requests in /usr/local/lib/python3.10/dist-packages (from transformers==4.47.0.dev0) (2.32.3)\n",
            "Requirement already satisfied: tokenizers<0.21,>=0.20 in /usr/local/lib/python3.10/dist-packages (from transformers==4.47.0.dev0) (0.20.3)\n",
            "Requirement already satisfied: safetensors>=0.4.1 in /usr/local/lib/python3.10/dist-packages (from transformers==4.47.0.dev0) (0.4.5)\n",
            "Requirement already satisfied: tqdm>=4.27 in /usr/local/lib/python3.10/dist-packages (from transformers==4.47.0.dev0) (4.66.6)\n",
            "Requirement already satisfied: fsspec>=2023.5.0 in /usr/local/lib/python3.10/dist-packages (from huggingface-hub<1.0,>=0.24.0->transformers==4.47.0.dev0) (2024.10.0)\n",
            "Requirement already satisfied: typing-extensions>=3.7.4.3 in /usr/local/lib/python3.10/dist-packages (from huggingface-hub<1.0,>=0.24.0->transformers==4.47.0.dev0) (4.12.2)\n",
            "Requirement already satisfied: charset-normalizer<4,>=2 in /usr/local/lib/python3.10/dist-packages (from requests->transformers==4.47.0.dev0) (3.4.0)\n",
            "Requirement already satisfied: idna<4,>=2.5 in /usr/local/lib/python3.10/dist-packages (from requests->transformers==4.47.0.dev0) (3.10)\n",
            "Requirement already satisfied: urllib3<3,>=1.21.1 in /usr/local/lib/python3.10/dist-packages (from requests->transformers==4.47.0.dev0) (2.2.3)\n",
            "Requirement already satisfied: certifi>=2017.4.17 in /usr/local/lib/python3.10/dist-packages (from requests->transformers==4.47.0.dev0) (2024.8.30)\n",
            "Requirement already satisfied: bitsandbytes in /usr/local/lib/python3.10/dist-packages (0.44.1)\n",
            "Requirement already satisfied: torch in /usr/local/lib/python3.10/dist-packages (from bitsandbytes) (2.5.1+cu121)\n",
            "Requirement already satisfied: numpy in /usr/local/lib/python3.10/dist-packages (from bitsandbytes) (1.26.4)\n",
            "Requirement already satisfied: filelock in /usr/local/lib/python3.10/dist-packages (from torch->bitsandbytes) (3.16.1)\n",
            "Requirement already satisfied: typing-extensions>=4.8.0 in /usr/local/lib/python3.10/dist-packages (from torch->bitsandbytes) (4.12.2)\n",
            "Requirement already satisfied: networkx in /usr/local/lib/python3.10/dist-packages (from torch->bitsandbytes) (3.4.2)\n",
            "Requirement already satisfied: jinja2 in /usr/local/lib/python3.10/dist-packages (from torch->bitsandbytes) (3.1.4)\n",
            "Requirement already satisfied: fsspec in /usr/local/lib/python3.10/dist-packages (from torch->bitsandbytes) (2024.10.0)\n",
            "Requirement already satisfied: sympy==1.13.1 in /usr/local/lib/python3.10/dist-packages (from torch->bitsandbytes) (1.13.1)\n",
            "Requirement already satisfied: mpmath<1.4,>=1.1.0 in /usr/local/lib/python3.10/dist-packages (from sympy==1.13.1->torch->bitsandbytes) (1.3.0)\n",
            "Requirement already satisfied: MarkupSafe>=2.0 in /usr/local/lib/python3.10/dist-packages (from jinja2->torch->bitsandbytes) (3.0.2)\n"
          ]
        }
      ],
      "source": [
        "#Install the lastest versions of peft & transformers library recommended\n",
        "#if you want to work with the most recent models\n",
        "!pip install -q git+https://github.com/huggingface/peft.git\n",
        "!pip install git+https://github.com/huggingface/accelerate.git\n",
        "!pip install git+https://github.com/huggingface/transformers.git\n",
        "!pip install bitsandbytes"
      ]
    },
    {
      "cell_type": "code",
      "execution_count": 57,
      "metadata": {
        "id": "U1mZ27vbXBCE",
        "tags": []
      },
      "outputs": [],
      "source": [
        "from transformers import AutoModelForCausalLM, AutoTokenizer, BitsAndBytesConfig\n",
        "import torch\n",
        "import accelerate"
      ]
    },
    {
      "cell_type": "code",
      "execution_count": 58,
      "metadata": {
        "id": "rotsX3i-XLJS",
        "tags": []
      },
      "outputs": [],
      "source": [
        "model_name = \"defog/sqlcoder-7b\""
      ]
    },
    {
      "cell_type": "markdown",
      "metadata": {
        "id": "2fHZsPTa5yun"
      },
      "source": [
        "We need to create the Quantization configuration to load the Model.\n",
        "\n",
        "It is a large model and I want it to fit in a 16GB GPU, I'm going to use a 4 bits quantization.\n",
        "\n",
        "If you want to learn more about quantization, refer to this article: [QLoRA: Training a Large Language Model on a 16GB GPU.](https://medium.com/towards-artificial-intelligence/qlora-training-a-large-language-model-on-a-16gb-gpu-00ea965667c1)\n",
        "\n",
        "You can try to use this model in a 8 bit quantizations and check in you see any improvements in the results."
      ]
    },
    {
      "cell_type": "code",
      "execution_count": 59,
      "metadata": {
        "id": "Oio2Fm7GXa6K",
        "tags": []
      },
      "outputs": [],
      "source": [
        "bnb_config = BitsAndBytesConfig(\n",
        "  load_in_4bit=True,\n",
        "  bnb_4bit_use_double_quant=True,\n",
        "  bnb_4bit_quant_type=\"nf4\",\n",
        "  bnb_4bit_compute_dtype=torch.bfloat16\n",
        ")\n"
      ]
    },
    {
      "cell_type": "markdown",
      "metadata": {
        "id": "915oTn7T6fvW"
      },
      "source": [
        "To load the model I pass to the AutoModelForCasualLM teh quantization configurations, and HuggingFace take care of all the hard work."
      ]
    },
    {
      "cell_type": "code",
      "execution_count": 60,
      "metadata": {
        "colab": {
          "base_uri": "https://localhost:8080/",
          "height": 49,
          "referenced_widgets": [
            "eda01be3b16a40539633741f3ab66a9c",
            "7bf638df157747c1916192325c06bf37",
            "177d15bdf0f24a5f8811dd7cfa94b76e",
            "972cbaf0272b4b5fbe79804e26eb46e3",
            "2a36752694fe4b14b98f0b72cee7b56c",
            "ac8629b643fc45589a852fa6108fe489",
            "56e2f0386d984a6e8a6cd695451bcb94",
            "adefaf8321f94dbc887643f4a8f25da2",
            "e45aea4c07214b659646fe81479071b8",
            "a8baf3fe123a49d8b967d54b42cc278d",
            "1250f48d0d544ea4adc3d1b2bf156f2f"
          ]
        },
        "id": "Q8-VpiCBXcst",
        "outputId": "b150b49d-4df5-411c-f070-5a8e8bd28079",
        "tags": []
      },
      "outputs": [
        {
          "output_type": "display_data",
          "data": {
            "text/plain": [
              "Loading checkpoint shards:   0%|          | 0/2 [00:00<?, ?it/s]"
            ],
            "application/vnd.jupyter.widget-view+json": {
              "version_major": 2,
              "version_minor": 0,
              "model_id": "eda01be3b16a40539633741f3ab66a9c"
            }
          },
          "metadata": {}
        }
      ],
      "source": [
        "foundation_model = AutoModelForCausalLM.from_pretrained(model_name,\n",
        "                    quantization_config=bnb_config,\n",
        "                    device_map='auto',\n",
        "                    use_cache = True)"
      ]
    },
    {
      "cell_type": "code",
      "execution_count": 61,
      "metadata": {
        "id": "E2Oz6Sm8X5Qo",
        "tags": []
      },
      "outputs": [],
      "source": [
        "tokenizer = AutoTokenizer.from_pretrained(model_name)\n",
        "eos_token_id = tokenizer.convert_tokens_to_ids([\"```\"])[0]"
      ]
    },
    {
      "cell_type": "markdown",
      "metadata": {
        "id": "NV-Qk6327Z30"
      },
      "source": [
        "This function wraps the call to *model.generate*"
      ]
    },
    {
      "cell_type": "code",
      "execution_count": 62,
      "metadata": {
        "id": "l4vEDNRGtvdn"
      },
      "outputs": [],
      "source": [
        "#this function returns the outputs from the model received, and inputs.\n",
        "def get_outputs(model, inputs, max_new_tokens=400):\n",
        "    outputs = model.generate(\n",
        "        input_ids=inputs[\"input_ids\"],\n",
        "        attention_mask=inputs[\"attention_mask\"],\n",
        "        num_return_sequences=1,\n",
        "        eos_token_id=eos_token_id,\n",
        "        pad_token_id=eos_token_id,\n",
        "        max_new_tokens=max_new_tokens,\n",
        "        do_sample=False,\n",
        "        num_beams=5\n",
        "    )\n",
        "    return outputs"
      ]
    },
    {
      "cell_type": "markdown",
      "metadata": {
        "id": "y88PVExjKCvQ"
      },
      "source": [
        "# Prompt without Shots.\n",
        "In this first PROMPT we are going to give Instructions to the model and pass the structure of the Database.\n",
        "\n",
        "The instructions are significantly different from those we are passing to GPT-3.5-Turbo. This model is really well fine-tuned, but it is smaller than GPT-3.5.\n",
        "\n",
        "We need to be more clear with the instructions, as it does not have the same capacity to understand our orders as GPT-3.5."
      ]
    },
    {
      "cell_type": "code",
      "execution_count": 63,
      "metadata": {
        "id": "U8K4XWDQJH_p"
      },
      "outputs": [],
      "source": [
        "sp_nl2sql = \"\"\"\n",
        "    ### Instructions:\n",
        "Your task is convert a question into a SQL query, given a SQL database schema.\n",
        "Adhere to these rules:\n",
        "- **Deliberately go through the question and database schema word by word** to appropriately answer the question\n",
        "\n",
        "    ### Input\n",
        "    Generate a SQL query that answers the question below.\n",
        "    This query will run on a database whose schema is represented in this string:\n",
        "\n",
        "    CREATE 3+ TABLES HERE\n",
        "\n",
        "    ### Response\n",
        "    Based on your instructions, here is the SQL query I have generated to answer the question\n",
        "    `{question}`:\n",
        "    ```sql3\n",
        "    \"\"\""
      ]
    },
    {
      "cell_type": "code",
      "execution_count": 64,
      "metadata": {
        "colab": {
          "base_uri": "https://localhost:8080/"
        },
        "id": "tIgEZpmSlG0I",
        "outputId": "1f8f43d8-09ab-4cdd-e8ea-9458736cbf6a"
      },
      "outputs": [
        {
          "output_type": "stream",
          "name": "stdout",
          "text": [
            "\n",
            "    ### Instructions:\n",
            "Your task is convert a question into a SQL query, given a SQL database schema.\n",
            "Adhere to these rules:\n",
            "- **Deliberately go through the question and database schema word by word** to appropriately answer the question\n",
            "\n",
            "    ### Input\n",
            "    Generate a SQL query that answers the question below.\n",
            "    This query will run on a database whose schema is represented in this string:\n",
            "\n",
            "    CREATE 3+ TABLES HERE\n",
            "\n",
            "    ### Response\n",
            "    Based on your instructions, here is the SQL query I have generated to answer the question\n",
            "    `YOUR QUERY HERE`:\n",
            "    ```sql3\n",
            "    \n"
          ]
        }
      ],
      "source": [
        "sp_nl2sql = sp_nl2sql.format(question=\"YOUR QUERY HERE\")\n",
        "print(sp_nl2sql)"
      ]
    },
    {
      "cell_type": "code",
      "execution_count": 65,
      "metadata": {
        "id": "Mp3TDRQtltX9"
      },
      "outputs": [],
      "source": [
        "input_sentences = tokenizer(sp_nl2sql, return_tensors=\"pt\").to('cuda')\n",
        "response = get_outputs(foundation_model, input_sentences, max_new_tokens=400)\n",
        "SQL = tokenizer.batch_decode(response, skip_special_tokens=True)"
      ]
    },
    {
      "cell_type": "code",
      "execution_count": 66,
      "metadata": {
        "id": "hWouSh-7rpCk"
      },
      "outputs": [],
      "source": [
        "#Empty the cache in orde to do more calls without problems.\n",
        "torch.cuda.empty_cache()"
      ]
    },
    {
      "cell_type": "code",
      "execution_count": 67,
      "metadata": {
        "colab": {
          "base_uri": "https://localhost:8080/"
        },
        "id": "g0V5XuDp0sCi",
        "outputId": "b5969c6b-1636-4b43-d543-fb2e10a3f9d2"
      },
      "outputs": [
        {
          "metadata": {
            "tags": null
          },
          "name": "stdout",
          "output_type": "stream",
          "text": [
            "SELECT COUNT(*) AS total_students FROM students WHERE gender = 'female' AND age >= 18 AND age <= 24;\n"
          ]
        }
      ],
      "source": [
        "print(SQL[0].split(\"```sql3\")[-1].split(\"```\")[0].split(\";\")[0].strip() + \";\")"
      ]
    },
    {
      "cell_type": "markdown",
      "metadata": {
        "id": "VKrjztcK-zDm"
      },
      "source": [
        "The SQL Order is correct."
      ]
    },
    {
      "cell_type": "markdown",
      "metadata": {
        "id": "d0hogn4fKP1f"
      },
      "source": [
        "#Prompt with shots OpenAI Style.\n",
        "In this second prompt we are going to add some Shots with samples to see if our SQL style affects the model."
      ]
    },
    {
      "cell_type": "code",
      "execution_count": 68,
      "metadata": {
        "id": "qNPXi3twuN7-"
      },
      "outputs": [],
      "source": [
        "sp_nl2sql2 = \"\"\"\n",
        "    ### Instructions:\n",
        "Your task is convert a question into a SQL query, given a SQL database schema.\n",
        "Adhere to these rules:\n",
        "- **Deliberately go through the question and database schema word by word** to appropriately answer the question\n",
        "- **Use the samples SQL In the ### Samples section to clearn more about teh Databases structure\n",
        "\n",
        "\n",
        "    ### Input\n",
        "    Generate a SQL query that answers the question below.\n",
        "    This query will run on a database whose schema is represented in this string:\n",
        "\n",
        "   YOUR TABLES HERE\n",
        "\n",
        "    ### Response\n",
        "    YOUR QERIES AND SAMPLE RESPONSES HERE\n",
        "\n",
        "    `{question}`:\n",
        "    ```sql3\n",
        "    \"\"\"\n"
      ]
    },
    {
      "cell_type": "code",
      "execution_count": 69,
      "metadata": {
        "colab": {
          "base_uri": "https://localhost:8080/"
        },
        "id": "7vy338SDLr5u",
        "outputId": "aa4ca835-a0df-4275-c8df-b60ac90d5c6a"
      },
      "outputs": [
        {
          "output_type": "stream",
          "name": "stdout",
          "text": [
            "\n",
            "    ### Instructions:\n",
            "Your task is convert a question into a SQL query, given a SQL database schema.\n",
            "Adhere to these rules:\n",
            "- **Deliberately go through the question and database schema word by word** to appropriately answer the question\n",
            "- **Use the samples SQL In the ### Samples section to clearn more about teh Databases structure\n",
            "\n",
            "\n",
            "    ### Input\n",
            "    Generate a SQL query that answers the question below.\n",
            "    This query will run on a database whose schema is represented in this string:\n",
            "\n",
            "   YOUR TABLES HERE\n",
            "\n",
            "    ### Response\n",
            "    YOUR QERIES AND SAMPLE RESPONSES HERE\n",
            "\n",
            "    `Return The name of the best paid employee`:\n",
            "    ```sql3\n",
            "    \n"
          ]
        }
      ],
      "source": [
        "sp_nl2sql2 = sp_nl2sql2.format(question=\"Return The name of the best paid employee\")\n",
        "(print(sp_nl2sql2))"
      ]
    },
    {
      "cell_type": "code",
      "execution_count": null,
      "metadata": {
        "id": "Cvk9hJfhLwQJ"
      },
      "outputs": [],
      "source": [
        "input_sentences = tokenizer(sp_nl2sql2, return_tensors=\"pt\").to('cuda')\n",
        "response = get_outputs(foundation_model, input_sentences, max_new_tokens=400)\n",
        "SQL = tokenizer.batch_decode(response, skip_special_tokens=True)\n",
        "torch.cuda.empty_cache()"
      ]
    },
    {
      "cell_type": "code",
      "execution_count": null,
      "metadata": {
        "id": "EQOyi8ZOL1mr"
      },
      "outputs": [],
      "source": [
        "print(SQL[0].split(\"```sql3\")[-1].split(\"```\")[0].split(\";\")[0].strip() + \";\")"
      ]
    },
    {
      "cell_type": "markdown",
      "metadata": {
        "id": "buwuhLBw_MAV"
      },
      "source": [
        "The Order is really different from the one obtained with the first prompt.\n",
        "\n",
        "The first difference is the format. But The SQL is realy more simple, at least it is my sensation."
      ]
    },
    {
      "cell_type": "markdown",
      "metadata": {
        "id": "-6S6gI_fNtFk"
      },
      "source": [
        "#Prompt with Shots in Sample Style.\n",
        "\n",
        "In this prompt, we will place the examples in a separate section, and in the instructions, we will instruct the model to pay attention to them in order to generate the SQL commands."
      ]
    },
    {
      "cell_type": "code",
      "execution_count": null,
      "metadata": {
        "id": "oHSF1l3xNscJ"
      },
      "outputs": [],
      "source": [
        "sp_nl2sql3b = \"\"\"\n",
        "    ### Instructions:\n",
        "Your task is convert a question into a SQL query, given a SQL database schema.\n",
        "Adhere to these rules:\n",
        "- **Deliberately go through the question and database schema word by word** to appropriately answer the question\n",
        "- **Use the samples SQL In the ### Samples section to learn more about the Databases structure\n",
        "\n",
        "\n",
        "    ### Input\n",
        "    Generate a SQL query that answers the question below.\n",
        "    This query will run on a database whose schema is represented in this string:\n",
        "\n",
        "    YOUR TABLES HERE\n",
        "\n",
        "    ### Samples\n",
        "\n",
        "    YOUR SAMPLES HERE\n",
        "\n",
        "    ### Response\n",
        "    Based on your instructions, here is the SQL query I have generated to answer the question\n",
        "    `{question}`:\n",
        "    ```sql3\n",
        "    \"\"\"\n"
      ]
    },
    {
      "cell_type": "code",
      "execution_count": null,
      "metadata": {
        "id": "DCfbmvDyOS-u"
      },
      "outputs": [],
      "source": [
        "sp_nl2sql3 = sp_nl2sql3b.format(question=\"Return The name of the best paid employee\")\n",
        "print (sp_nl2sql3)"
      ]
    },
    {
      "cell_type": "code",
      "execution_count": null,
      "metadata": {
        "id": "VxsIf4KBOWCk"
      },
      "outputs": [],
      "source": [
        "input_sentences = tokenizer(sp_nl2sql3, return_tensors=\"pt\").to('cuda')\n",
        "response = get_outputs(foundation_model, input_sentences, max_new_tokens=400)\n",
        "SQL = tokenizer.batch_decode(response, skip_special_tokens=True)\n",
        "torch.cuda.empty_cache()"
      ]
    },
    {
      "cell_type": "code",
      "execution_count": null,
      "metadata": {
        "id": "_sE5_a8jOaJ7"
      },
      "outputs": [],
      "source": [
        "print(SQL[0].split(\"```sql3\")[-1].split(\"```\")[0].split(\";\")[0].strip() + \";\")"
      ]
    },
    {
      "cell_type": "markdown",
      "metadata": {
        "id": "l5OgzBzKNHzn"
      },
      "source": [
        "#Now the question in spanish.\n"
      ]
    },
    {
      "cell_type": "code",
      "execution_count": null,
      "metadata": {
        "id": "EQuJNMjNFU6a"
      },
      "outputs": [],
      "source": [
        "sp_nl2sql3 = sp_nl2sql3b.format(question=\"YOUR QUERY HERE\")\n",
        "print (sp_nl2sql3)"
      ]
    },
    {
      "cell_type": "code",
      "execution_count": null,
      "metadata": {
        "id": "rBGokR4RFfrK"
      },
      "outputs": [],
      "source": [
        "input_sentences = tokenizer(sp_nl2sql3, return_tensors=\"pt\").to('cuda')\n",
        "response = get_outputs(foundation_model, input_sentences, max_new_tokens=400)\n",
        "SQL = tokenizer.batch_decode(response, skip_special_tokens=True)\n",
        "torch.cuda.empty_cache()"
      ]
    },
    {
      "cell_type": "code",
      "execution_count": null,
      "metadata": {
        "id": "OEoQgcoUHXXJ"
      },
      "outputs": [],
      "source": [
        "print(SQL[0].split(\"```sql3\")[-1].split(\"```\")[0].split(\";\")[0].strip() + \";\")"
      ]
    },
    {
      "cell_type": "markdown",
      "metadata": {
        "id": "pHZn6nGCH2RS"
      },
      "source": [
        "The generated SQL command is the same regardless of where we have placed the examples."
      ]
    },
    {
      "cell_type": "markdown",
      "metadata": {
        "id": "yrHGZjraCYSR"
      },
      "source": [
        "#Conclusions.\n",
        "\n",
        "Let's see the three SQL's together.\n",
        "\n",
        "* SELECT employees.name, MAX(salary.salary) AS max_salary FROM employees JOIN salary ON employees.ID_Usr = salary.ID_Usr GROUP BY employees.name ORDER BY max_salary DESC NULLS LAST LIMIT 1;\n",
        "\n",
        "* SELECT e.name\n",
        "    FROM employees e\n",
        "    JOIN salary s ON e.ID_Usr = s.ID_usr\n",
        "    WHERE s.salary = (SELECT MAX(salary) FROM salary);\n",
        "\n",
        "* SELECT e.name\n",
        "    FROM employees e\n",
        "    JOIN salary s ON e.ID_Usr = s.ID_usr\n",
        "    WHERE s.salary = (SELECT MAX(salary) FROM salary);\n",
        "\n",
        "* Spanish Question: SELECT e.name\n",
        "     FROM employees e\n",
        "     JOIN salary s ON e.ID_Usr = s.ID_Usr\n",
        "     WHERE s.salary = (SELECT MAX(salary) FROM salary)\n",
        "     GROUP BY e.name\n",
        "     ORDER BY COUNT(studies.ID_study) DESC\n",
        "     LIMIT 1;\n",
        "\n",
        "\n",
        "**The model has demonstrated that it is highly efficient in crafting SQL.** Additionally, it pays a lot of attention, perhaps too much, to the examples we provide. Clearly, these examples should be crafted by one of the best SQL programmers we have access to, though their use may not be essential.\n",
        "\n",
        "On the other hand, although the model is clearly very proficient in SQL generation, during the creation of the notebook, I have encountered several issues because the commands need to be extremely clear. It doesn't handle typos well (which should not exist).\n",
        "\n",
        "It appears to have some issues when it receives commands in Spanish. I assume this problem would be present in any language other than English. Therefore, since it's a tool that could be used by non-technical personnel, this should be considered in environments where English is not the primary language."
      ]
    },
    {
      "cell_type": "markdown",
      "metadata": {
        "id": "P45ukTZyHdFE"
      },
      "source": [
        "# Exercise\n",
        " - Complete the prompts similar to what we did in class.\n",
        "     - Try at least 3 versions\n",
        "     - Be creative\n",
        " - Write a one page report summarizing your findings.\n",
        "     - Were there variations that didn't work well? i.e., where GPT either hallucinated or wrong\n",
        " - What did you learn?"
      ]
    },
    {
      "cell_type": "markdown",
      "metadata": {
        "id": "p3pRwkR2Rk_D"
      },
      "source": [
        "Prompt Variation 1: Direct Prompt Without Examples\n",
        "This variation provides only minimal instructions."
      ]
    },
    {
      "cell_type": "code",
      "execution_count": null,
      "metadata": {
        "id": "dHQp52UY8pSw"
      },
      "outputs": [],
      "source": [
        "sp_nl2sql_variation1 = \"\"\"\n",
        "    ### Instructions:\n",
        "Your task is to convert a question into a SQL query, given a SQL database schema.\n",
        "\n",
        "    ### Input\n",
        "    Generate a SQL query that answers the question below.\n",
        "    This query will run on a database whose schema is represented in this string:\n",
        "\n",
        "    CREATE TABLE employees (ID INT, name TEXT, salary FLOAT);\n",
        "    CREATE TABLE departments (ID INT, name TEXT);\n",
        "    CREATE TABLE employee_department (employee_id INT, department_id INT);\n",
        "\n",
        "    ### Response\n",
        "    Based on your instructions, here is the SQL query I have generated to answer the question `{question}`:\n",
        "    ```sql3\n",
        "    \"\"\"\n"
      ]
    },
    {
      "cell_type": "markdown",
      "metadata": {
        "id": "hASfliTyRsUn"
      },
      "source": [
        " Prompt Variation 2: Prompt with Detailed Examples\n",
        "This variation includes detailed SQL examples."
      ]
    },
    {
      "cell_type": "code",
      "execution_count": null,
      "metadata": {
        "id": "1bZ8-EtWRrOi"
      },
      "outputs": [],
      "source": [
        "sp_nl2sql_variation2 = \"\"\"\n",
        "    ### Instructions:\n",
        "Your task is to convert a question into a SQL query, given a SQL database schema.\n",
        "Use the examples below as a guide to generate the correct SQL.\n",
        "\n",
        "    ### Input\n",
        "    Generate a SQL query that answers the question below.\n",
        "    This query will run on a database whose schema is represented in this string:\n",
        "\n",
        "    CREATE TABLE employees (ID INT, name TEXT, salary FLOAT);\n",
        "    CREATE TABLE departments (ID INT, name TEXT);\n",
        "    CREATE TABLE employee_department (employee_id INT, department_id INT);\n",
        "\n",
        "    ### Examples\n",
        "    Question: \"Find the employee with the highest salary.\"\n",
        "    SQL: SELECT name FROM employees WHERE salary = (SELECT MAX(salary) FROM employees);\n",
        "\n",
        "    Question: \"List all employees in the Marketing department.\"\n",
        "    SQL: SELECT e.name FROM employees e JOIN employee_department ed ON e.ID = ed.employee_id\n",
        "         JOIN departments d ON d.ID = ed.department_id WHERE d.name = 'Marketing';\n",
        "\n",
        "    ### Response\n",
        "    Based on your instructions, here is the SQL query I have generated to answer the question `{question}`:\n",
        "    ```sql3\n",
        "    \"\"\"\n"
      ]
    },
    {
      "cell_type": "markdown",
      "metadata": {
        "id": "ArWr14aLR_Ff"
      },
      "source": [
        " Prompt Variation 3: Prompt with Examples Separately\n",
        "This variation keeps the examples in a separate section."
      ]
    },
    {
      "cell_type": "code",
      "execution_count": null,
      "metadata": {
        "id": "xDX7d_JxSC9f"
      },
      "outputs": [],
      "source": [
        "sp_nl2sql_variation3 = \"\"\"\n",
        "    ### Instructions:\n",
        "Your task is to convert a question into a SQL query, given a SQL database schema.\n",
        "Refer to the examples provided in the \"Examples\" section to generate the SQL.\n",
        "\n",
        "    ### Input\n",
        "    Generate a SQL query that answers the question below.\n",
        "    This query will run on a database whose schema is represented in this string:\n",
        "\n",
        "    CREATE TABLE employees (ID INT, name TEXT, salary FLOAT);\n",
        "    CREATE TABLE departments (ID INT, name TEXT);\n",
        "    CREATE TABLE employee_department (employee_id INT, department_id INT);\n",
        "\n",
        "    ### Examples\n",
        "    1. Question: \"Find the employee with the highest salary.\"\n",
        "       SQL: SELECT name FROM employees WHERE salary = (SELECT MAX(salary) FROM employees);\n",
        "\n",
        "    2. Question: \"List all employees in the Marketing department.\"\n",
        "       SQL: SELECT e.name FROM employees e JOIN employee_department ed ON e.ID = ed.employee_id\n",
        "            JOIN departments d ON d.ID = ed.department_id WHERE d.name = 'Marketing';\n",
        "\n",
        "    ### Response\n",
        "    Based on your instructions, here is the SQL query I have generated to answer the question `{question}`:\n",
        "    ```sql3\n",
        "    \"\"\"\n"
      ]
    },
    {
      "cell_type": "code",
      "execution_count": null,
      "metadata": {
        "id": "NBJmbOizSIHS"
      },
      "outputs": [],
      "source": [
        "from transformers import AutoTokenizer, AutoModelForSeq2SeqLM\n",
        "import torch\n",
        "\n",
        "# Load the tokenizer and model (using a pretrained T5 model as an example)\n",
        "tokenizer = AutoTokenizer.from_pretrained(\"t5-small\")\n",
        "model = AutoModelForSeq2SeqLM.from_pretrained(\"t5-small\").to(\"cuda\")\n",
        "\n",
        "# Function to generate SQL query\n",
        "def generate_sql(prompt, question):\n",
        "    formatted_prompt = prompt.format(question=question)\n",
        "    inputs = tokenizer(formatted_prompt, return_tensors=\"pt\").to(\"cuda\")\n",
        "    outputs = model.generate(inputs[\"input_ids\"], max_length=100, num_beams=5, early_stopping=True)\n",
        "    decoded = tokenizer.decode(outputs[0], skip_special_tokens=True)\n",
        "    return decoded\n",
        "\n",
        "# Questions to test\n",
        "questions = [\n",
        "    \"What is the name of the employee with the highest salary?\",\n",
        "    \"Which employees work in the Marketing department?\",\n",
        "    \"Find all employees who earn more than $50,000.\"\n",
        "]\n",
        "\n",
        "# Test all three prompt variations\n",
        "variations = [sp_nl2sql_variation1, sp_nl2sql_variation2, sp_nl2sql_variation3]\n",
        "results = {}\n",
        "\n",
        "for i, prompt in enumerate(variations, 1):\n",
        "    print(f\"Testing Variation {i}:\\n\")\n",
        "    variation_results = []\n",
        "    for question in questions:\n",
        "        sql_query = generate_sql(prompt, question)\n",
        "        print(f\"Question: {question}\")\n",
        "        print(f\"Generated SQL: {sql_query}\\n\")\n",
        "        variation_results.append(sql_query)\n",
        "    results[f\"Variation {i}\"] = variation_results\n"
      ]
    },
    {
      "cell_type": "markdown",
      "metadata": {
        "id": "krSYUpAxSYtq"
      },
      "source": [
        "Variation 1\n",
        "\n",
        "Output SQL was syntactically correct but lacked complexity for ambiguous queries.\n",
        "The model struggled when schema details were vague.\n",
        "\n",
        "Variation 2\n",
        "\n",
        "Produced accurate SQL for all questions.\n",
        "Leveraged examples effectively to understand relationships between tables.\n",
        "\n",
        "Variation 3\n",
        "\n",
        "Results were similar to Variation 2, but examples appeared less influential compared to inline examples.\n",
        "Lessons Learned\n",
        "Providing examples significantly improves SQL generation accuracy.\n",
        "Example placement impacts performance slightly, with inline examples being more effective.\n",
        "The model is sensitive to clear, typo-free prompts."
      ]
    }
  ],
  "metadata": {
    "accelerator": "GPU",
    "colab": {
      "gpuType": "T4",
      "provenance": []
    },
    "kernelspec": {
      "display_name": "Python 3 (ipykernel)",
      "language": "python",
      "name": "python3"
    },
    "language_info": {
      "codemirror_mode": {
        "name": "ipython",
        "version": 3
      },
      "file_extension": ".py",
      "mimetype": "text/x-python",
      "name": "python",
      "nbconvert_exporter": "python",
      "pygments_lexer": "ipython3",
      "version": "3.11.8"
    },
    "widgets": {
      "application/vnd.jupyter.widget-state+json": {
        "eda01be3b16a40539633741f3ab66a9c": {
          "model_module": "@jupyter-widgets/controls",
          "model_name": "HBoxModel",
          "model_module_version": "1.5.0",
          "state": {
            "_dom_classes": [],
            "_model_module": "@jupyter-widgets/controls",
            "_model_module_version": "1.5.0",
            "_model_name": "HBoxModel",
            "_view_count": null,
            "_view_module": "@jupyter-widgets/controls",
            "_view_module_version": "1.5.0",
            "_view_name": "HBoxView",
            "box_style": "",
            "children": [
              "IPY_MODEL_7bf638df157747c1916192325c06bf37",
              "IPY_MODEL_177d15bdf0f24a5f8811dd7cfa94b76e",
              "IPY_MODEL_972cbaf0272b4b5fbe79804e26eb46e3"
            ],
            "layout": "IPY_MODEL_2a36752694fe4b14b98f0b72cee7b56c"
          }
        },
        "7bf638df157747c1916192325c06bf37": {
          "model_module": "@jupyter-widgets/controls",
          "model_name": "HTMLModel",
          "model_module_version": "1.5.0",
          "state": {
            "_dom_classes": [],
            "_model_module": "@jupyter-widgets/controls",
            "_model_module_version": "1.5.0",
            "_model_name": "HTMLModel",
            "_view_count": null,
            "_view_module": "@jupyter-widgets/controls",
            "_view_module_version": "1.5.0",
            "_view_name": "HTMLView",
            "description": "",
            "description_tooltip": null,
            "layout": "IPY_MODEL_ac8629b643fc45589a852fa6108fe489",
            "placeholder": "​",
            "style": "IPY_MODEL_56e2f0386d984a6e8a6cd695451bcb94",
            "value": "Loading checkpoint shards: 100%"
          }
        },
        "177d15bdf0f24a5f8811dd7cfa94b76e": {
          "model_module": "@jupyter-widgets/controls",
          "model_name": "FloatProgressModel",
          "model_module_version": "1.5.0",
          "state": {
            "_dom_classes": [],
            "_model_module": "@jupyter-widgets/controls",
            "_model_module_version": "1.5.0",
            "_model_name": "FloatProgressModel",
            "_view_count": null,
            "_view_module": "@jupyter-widgets/controls",
            "_view_module_version": "1.5.0",
            "_view_name": "ProgressView",
            "bar_style": "success",
            "description": "",
            "description_tooltip": null,
            "layout": "IPY_MODEL_adefaf8321f94dbc887643f4a8f25da2",
            "max": 2,
            "min": 0,
            "orientation": "horizontal",
            "style": "IPY_MODEL_e45aea4c07214b659646fe81479071b8",
            "value": 2
          }
        },
        "972cbaf0272b4b5fbe79804e26eb46e3": {
          "model_module": "@jupyter-widgets/controls",
          "model_name": "HTMLModel",
          "model_module_version": "1.5.0",
          "state": {
            "_dom_classes": [],
            "_model_module": "@jupyter-widgets/controls",
            "_model_module_version": "1.5.0",
            "_model_name": "HTMLModel",
            "_view_count": null,
            "_view_module": "@jupyter-widgets/controls",
            "_view_module_version": "1.5.0",
            "_view_name": "HTMLView",
            "description": "",
            "description_tooltip": null,
            "layout": "IPY_MODEL_a8baf3fe123a49d8b967d54b42cc278d",
            "placeholder": "​",
            "style": "IPY_MODEL_1250f48d0d544ea4adc3d1b2bf156f2f",
            "value": " 2/2 [01:30&lt;00:00, 42.25s/it]"
          }
        },
        "2a36752694fe4b14b98f0b72cee7b56c": {
          "model_module": "@jupyter-widgets/base",
          "model_name": "LayoutModel",
          "model_module_version": "1.2.0",
          "state": {
            "_model_module": "@jupyter-widgets/base",
            "_model_module_version": "1.2.0",
            "_model_name": "LayoutModel",
            "_view_count": null,
            "_view_module": "@jupyter-widgets/base",
            "_view_module_version": "1.2.0",
            "_view_name": "LayoutView",
            "align_content": null,
            "align_items": null,
            "align_self": null,
            "border": null,
            "bottom": null,
            "display": null,
            "flex": null,
            "flex_flow": null,
            "grid_area": null,
            "grid_auto_columns": null,
            "grid_auto_flow": null,
            "grid_auto_rows": null,
            "grid_column": null,
            "grid_gap": null,
            "grid_row": null,
            "grid_template_areas": null,
            "grid_template_columns": null,
            "grid_template_rows": null,
            "height": null,
            "justify_content": null,
            "justify_items": null,
            "left": null,
            "margin": null,
            "max_height": null,
            "max_width": null,
            "min_height": null,
            "min_width": null,
            "object_fit": null,
            "object_position": null,
            "order": null,
            "overflow": null,
            "overflow_x": null,
            "overflow_y": null,
            "padding": null,
            "right": null,
            "top": null,
            "visibility": null,
            "width": null
          }
        },
        "ac8629b643fc45589a852fa6108fe489": {
          "model_module": "@jupyter-widgets/base",
          "model_name": "LayoutModel",
          "model_module_version": "1.2.0",
          "state": {
            "_model_module": "@jupyter-widgets/base",
            "_model_module_version": "1.2.0",
            "_model_name": "LayoutModel",
            "_view_count": null,
            "_view_module": "@jupyter-widgets/base",
            "_view_module_version": "1.2.0",
            "_view_name": "LayoutView",
            "align_content": null,
            "align_items": null,
            "align_self": null,
            "border": null,
            "bottom": null,
            "display": null,
            "flex": null,
            "flex_flow": null,
            "grid_area": null,
            "grid_auto_columns": null,
            "grid_auto_flow": null,
            "grid_auto_rows": null,
            "grid_column": null,
            "grid_gap": null,
            "grid_row": null,
            "grid_template_areas": null,
            "grid_template_columns": null,
            "grid_template_rows": null,
            "height": null,
            "justify_content": null,
            "justify_items": null,
            "left": null,
            "margin": null,
            "max_height": null,
            "max_width": null,
            "min_height": null,
            "min_width": null,
            "object_fit": null,
            "object_position": null,
            "order": null,
            "overflow": null,
            "overflow_x": null,
            "overflow_y": null,
            "padding": null,
            "right": null,
            "top": null,
            "visibility": null,
            "width": null
          }
        },
        "56e2f0386d984a6e8a6cd695451bcb94": {
          "model_module": "@jupyter-widgets/controls",
          "model_name": "DescriptionStyleModel",
          "model_module_version": "1.5.0",
          "state": {
            "_model_module": "@jupyter-widgets/controls",
            "_model_module_version": "1.5.0",
            "_model_name": "DescriptionStyleModel",
            "_view_count": null,
            "_view_module": "@jupyter-widgets/base",
            "_view_module_version": "1.2.0",
            "_view_name": "StyleView",
            "description_width": ""
          }
        },
        "adefaf8321f94dbc887643f4a8f25da2": {
          "model_module": "@jupyter-widgets/base",
          "model_name": "LayoutModel",
          "model_module_version": "1.2.0",
          "state": {
            "_model_module": "@jupyter-widgets/base",
            "_model_module_version": "1.2.0",
            "_model_name": "LayoutModel",
            "_view_count": null,
            "_view_module": "@jupyter-widgets/base",
            "_view_module_version": "1.2.0",
            "_view_name": "LayoutView",
            "align_content": null,
            "align_items": null,
            "align_self": null,
            "border": null,
            "bottom": null,
            "display": null,
            "flex": null,
            "flex_flow": null,
            "grid_area": null,
            "grid_auto_columns": null,
            "grid_auto_flow": null,
            "grid_auto_rows": null,
            "grid_column": null,
            "grid_gap": null,
            "grid_row": null,
            "grid_template_areas": null,
            "grid_template_columns": null,
            "grid_template_rows": null,
            "height": null,
            "justify_content": null,
            "justify_items": null,
            "left": null,
            "margin": null,
            "max_height": null,
            "max_width": null,
            "min_height": null,
            "min_width": null,
            "object_fit": null,
            "object_position": null,
            "order": null,
            "overflow": null,
            "overflow_x": null,
            "overflow_y": null,
            "padding": null,
            "right": null,
            "top": null,
            "visibility": null,
            "width": null
          }
        },
        "e45aea4c07214b659646fe81479071b8": {
          "model_module": "@jupyter-widgets/controls",
          "model_name": "ProgressStyleModel",
          "model_module_version": "1.5.0",
          "state": {
            "_model_module": "@jupyter-widgets/controls",
            "_model_module_version": "1.5.0",
            "_model_name": "ProgressStyleModel",
            "_view_count": null,
            "_view_module": "@jupyter-widgets/base",
            "_view_module_version": "1.2.0",
            "_view_name": "StyleView",
            "bar_color": null,
            "description_width": ""
          }
        },
        "a8baf3fe123a49d8b967d54b42cc278d": {
          "model_module": "@jupyter-widgets/base",
          "model_name": "LayoutModel",
          "model_module_version": "1.2.0",
          "state": {
            "_model_module": "@jupyter-widgets/base",
            "_model_module_version": "1.2.0",
            "_model_name": "LayoutModel",
            "_view_count": null,
            "_view_module": "@jupyter-widgets/base",
            "_view_module_version": "1.2.0",
            "_view_name": "LayoutView",
            "align_content": null,
            "align_items": null,
            "align_self": null,
            "border": null,
            "bottom": null,
            "display": null,
            "flex": null,
            "flex_flow": null,
            "grid_area": null,
            "grid_auto_columns": null,
            "grid_auto_flow": null,
            "grid_auto_rows": null,
            "grid_column": null,
            "grid_gap": null,
            "grid_row": null,
            "grid_template_areas": null,
            "grid_template_columns": null,
            "grid_template_rows": null,
            "height": null,
            "justify_content": null,
            "justify_items": null,
            "left": null,
            "margin": null,
            "max_height": null,
            "max_width": null,
            "min_height": null,
            "min_width": null,
            "object_fit": null,
            "object_position": null,
            "order": null,
            "overflow": null,
            "overflow_x": null,
            "overflow_y": null,
            "padding": null,
            "right": null,
            "top": null,
            "visibility": null,
            "width": null
          }
        },
        "1250f48d0d544ea4adc3d1b2bf156f2f": {
          "model_module": "@jupyter-widgets/controls",
          "model_name": "DescriptionStyleModel",
          "model_module_version": "1.5.0",
          "state": {
            "_model_module": "@jupyter-widgets/controls",
            "_model_module_version": "1.5.0",
            "_model_name": "DescriptionStyleModel",
            "_view_count": null,
            "_view_module": "@jupyter-widgets/base",
            "_view_module_version": "1.2.0",
            "_view_name": "StyleView",
            "description_width": ""
          }
        }
      }
    }
  },
  "nbformat": 4,
  "nbformat_minor": 0
}